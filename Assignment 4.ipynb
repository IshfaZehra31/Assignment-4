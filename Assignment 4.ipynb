{
 "cells": [
  {
   "cell_type": "code",
   "execution_count": 1,
   "id": "4efd2ae3",
   "metadata": {},
   "outputs": [],
   "source": [
    "# QUESTION # 1"
   ]
  },
  {
   "cell_type": "code",
   "execution_count": null,
   "id": "e9e68d3a",
   "metadata": {},
   "outputs": [],
   "source": [
    "num1 = int(input('Enter a number '));\n",
    "operation = input('Select Operation */+- ');\n",
    "num2 = int(input('Enter a number '));\n",
    "if operation == '*':\n",
    "    print(num1 * num2);\n",
    "elif operation == '+':\n",
    "    print(num1 + num2);\n",
    "elif operation == '-':\n",
    "    print(num1 - num2);\n",
    "elif operation == '/':\n",
    "    print(num1 / num2);\n",
    "elif operation == '**':\n",
    "    print(num1 ** num2);\n",
    "else:\n",
    "    print('Invalid Syntex');"
   ]
  },
  {
   "cell_type": "code",
   "execution_count": null,
   "id": "64110c25",
   "metadata": {},
   "outputs": [],
   "source": [
    "# QUESTION # 2"
   ]
  },
  {
   "cell_type": "code",
   "execution_count": null,
   "id": "61a7d345",
   "metadata": {},
   "outputs": [],
   "source": [
    "list = ['ishfa',2,'shani',3,'waniya',8];\n",
    "for i in list:\n",
    "    if type(i) == int:\n",
    "        print(i);"
   ]
  },
  {
   "cell_type": "code",
   "execution_count": null,
   "id": "b290124e",
   "metadata": {},
   "outputs": [],
   "source": [
    "# QUESTION # 3"
   ]
  },
  {
   "cell_type": "code",
   "execution_count": null,
   "id": "bb3102e0",
   "metadata": {},
   "outputs": [],
   "source": [
    "dic = {1:'ishfa',2:'shani'};\n",
    "dic[3] = 'waniya';\n",
    "print(dic);"
   ]
  },
  {
   "cell_type": "code",
   "execution_count": null,
   "id": "c689fd58",
   "metadata": {},
   "outputs": [],
   "source": [
    "# QUESTION # 4"
   ]
  },
  {
   "cell_type": "code",
   "execution_count": null,
   "id": "c04c1d2d",
   "metadata": {},
   "outputs": [],
   "source": [
    "dic1 = {'a':34,'b':56};\n",
    "print(sum(dic1.values()));"
   ]
  },
  {
   "cell_type": "code",
   "execution_count": null,
   "id": "d203eecd",
   "metadata": {},
   "outputs": [],
   "source": [
    "# QUESTION # 5"
   ]
  },
  {
   "cell_type": "code",
   "execution_count": null,
   "id": "e2b14ac2",
   "metadata": {},
   "outputs": [],
   "source": [
    "l = [1,2,3,2,5,1,6];\n",
    "l1 = [];\n",
    "for i in l:\n",
    "    if i not in l1:\n",
    "        l1.append(i);\n",
    "    else:\n",
    "        print(i,end= ' ');"
   ]
  },
  {
   "cell_type": "code",
   "execution_count": null,
   "id": "46ec07ae",
   "metadata": {},
   "outputs": [],
   "source": [
    "# QUESTION # 6 "
   ]
  },
  {
   "cell_type": "code",
   "execution_count": null,
   "id": "f84028d6",
   "metadata": {},
   "outputs": [],
   "source": [
    "dic2 = {'a':34,'b':56};\n",
    "if 'a' in dic2.keys():\n",
    "    print('Key exist');\n",
    "else:\n",
    "    print('Key does not exist');"
   ]
  }
 ],
 "metadata": {
  "kernelspec": {
   "display_name": "Python 3",
   "language": "python",
   "name": "python3"
  },
  "language_info": {
   "codemirror_mode": {
    "name": "ipython",
    "version": 3
   },
   "file_extension": ".py",
   "mimetype": "text/x-python",
   "name": "python",
   "nbconvert_exporter": "python",
   "pygments_lexer": "ipython3",
   "version": "3.8.8"
  }
 },
 "nbformat": 4,
 "nbformat_minor": 5
}
